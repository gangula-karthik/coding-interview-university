{
 "cells": [
  {
   "cell_type": "markdown",
   "metadata": {},
   "source": [
    "## Creating a node class"
   ]
  },
  {
   "cell_type": "code",
   "execution_count": 1,
   "metadata": {},
   "outputs": [],
   "source": [
    "class Node(): \n",
    "    def __init__(self, val): \n",
    "        self.data = val \n",
    "        self.next = None"
   ]
  },
  {
   "cell_type": "markdown",
   "metadata": {},
   "source": [
    "## linked list class"
   ]
  },
  {
   "cell_type": "code",
   "execution_count": 59,
   "metadata": {},
   "outputs": [],
   "source": [
    "class LinkedList():\n",
    "    def __init__(self): \n",
    "        self.head = None\n",
    "\n",
    "    # Insert a new node at the beginning\n",
    "    def push_front(self, value): \n",
    "        if self.head is None: \n",
    "            self.head = Node(value)\n",
    "        else: \n",
    "            new_node = Node(value)\n",
    "            new_node.next = self.head\n",
    "            self.head = new_node\n",
    "\n",
    "    # check if list is empty \n",
    "    def empty(self):\n",
    "        if self.head is None: \n",
    "            return True\n",
    "        else: \n",
    "            return False\n",
    "\n",
    "    # returns the size of the list\n",
    "    def size(self): \n",
    "        current = self.head \n",
    "        size_ll = 0\n",
    "        if self.empty(): \n",
    "            return 0\n",
    "        while current is not None: \n",
    "            size_ll += 1\n",
    "            current = current.next\n",
    "        return size_ll\n",
    "\n",
    "    # returns the value at index \n",
    "    def value_at(self, index):\n",
    "        i = 0\n",
    "        if i < 0:\n",
    "            return \"invalid index\"\n",
    "        elif i > self.size():\n",
    "            return \"index out of range\" \n",
    "        current = self.head \n",
    "        while current is not None: \n",
    "            if i == index: \n",
    "                return current.data \n",
    "            i += 1\n",
    "            current = current.next\n",
    "\n",
    "    # removes the first element of the list\n",
    "    def pop_front(self): \n",
    "        current = self.head\n",
    "        while current is not None:\n",
    "            self.head = current.next \n",
    "            current_data = current.data\n",
    "            current = None\n",
    "        return current_data\n",
    "\n",
    "    # get value of the front item\n",
    "    def front(self):\n",
    "        return self.head.data\n",
    "\n",
    "    # get value of the back item\n",
    "    def back(self):\n",
    "        current = self.head \n",
    "        while current is not None: \n",
    "            if current.next is None: \n",
    "                return current.data\n",
    "            current = current.next\n",
    "\n",
    "    def show_elements(self):\n",
    "        current = self.head\n",
    "        while current is not None:\n",
    "            print(current.data)\n",
    "            current = current.next"
   ]
  },
  {
   "cell_type": "code",
   "execution_count": 42,
   "metadata": {},
   "outputs": [
    {
     "name": "stdout",
     "output_type": "stream",
     "text": [
      "True\n",
      "2\n",
      "False\n",
      "223\n",
      "23\n",
      "2\n",
      "2\n",
      "3\n"
     ]
    }
   ],
   "source": [
    "list2 = LinkedList()\n",
    "print(list2.empty())\n",
    "list2.push_front(2)\n",
    "list2.show_elements()\n",
    "print(list2.empty())\n",
    "list2.push_front(23)\n",
    "list2.push_front(223)\n",
    "list2.show_elements()\n",
    "\n",
    "\n",
    "print(list2.value_at(2))\n",
    "print(list2.size())\n"
   ]
  },
  {
   "cell_type": "code",
   "execution_count": 43,
   "metadata": {},
   "outputs": [
    {
     "name": "stdout",
     "output_type": "stream",
     "text": [
      "23\n",
      "2\n",
      "2\n"
     ]
    }
   ],
   "source": [
    "list2.pop_front()\n",
    "list2.show_elements()\n",
    "print(list2.size())"
   ]
  },
  {
   "cell_type": "code",
   "execution_count": 60,
   "metadata": {},
   "outputs": [
    {
     "name": "stdout",
     "output_type": "stream",
     "text": [
      "7\n",
      "6\n",
      "5\n",
      "4\n",
      "3\n",
      "2\n"
     ]
    }
   ],
   "source": [
    "list3 = LinkedList()\n",
    "list3.push_front(2)\n",
    "list3.push_front(3)\n",
    "list3.push_front(4)\n",
    "list3.push_front(5)\n",
    "list3.push_front(6)\n",
    "list3.push_front(7)\n",
    "list3.show_elements()"
   ]
  },
  {
   "cell_type": "code",
   "execution_count": 61,
   "metadata": {},
   "outputs": [
    {
     "name": "stdout",
     "output_type": "stream",
     "text": [
      "7\n",
      "6\n",
      "5\n",
      "4\n",
      "3\n",
      "2\n"
     ]
    }
   ],
   "source": [
    "print(list3.pop_front())\n",
    "list3.show_elements()\n"
   ]
  },
  {
   "cell_type": "code",
   "execution_count": 63,
   "metadata": {},
   "outputs": [
    {
     "data": {
      "text/plain": [
       "2"
      ]
     },
     "execution_count": 63,
     "metadata": {},
     "output_type": "execute_result"
    }
   ],
   "source": [
    "list3.front()\n",
    "list3.back()"
   ]
  }
 ],
 "metadata": {
  "kernelspec": {
   "display_name": "Python 3.10.6 64-bit",
   "language": "python",
   "name": "python3"
  },
  "language_info": {
   "codemirror_mode": {
    "name": "ipython",
    "version": 3
   },
   "file_extension": ".py",
   "mimetype": "text/x-python",
   "name": "python",
   "nbconvert_exporter": "python",
   "pygments_lexer": "ipython3",
   "version": "3.10.6"
  },
  "orig_nbformat": 4,
  "vscode": {
   "interpreter": {
    "hash": "b0fa6594d8f4cbf19f97940f81e996739fb7646882a419484c72d19e05852a7e"
   }
  }
 },
 "nbformat": 4,
 "nbformat_minor": 2
}
